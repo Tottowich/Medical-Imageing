{
 "cells": [
  {
   "cell_type": "code",
   "execution_count": 1,
   "id": "7d880eda",
   "metadata": {},
   "outputs": [
    {
     "name": "stderr",
     "output_type": "stream",
     "text": [
      "2023-03-24 14:34:09.890413: I tensorflow/core/platform/cpu_feature_guard.cc:193] This TensorFlow binary is optimized with oneAPI Deep Neural Network Library (oneDNN) to use the following CPU instructions in performance-critical operations:  AVX2 FMA\n",
      "To enable them in other operations, rebuild TensorFlow with the appropriate compiler flags.\n",
      "2023-03-24 14:34:10.463682: W tensorflow/compiler/xla/stream_executor/platform/default/dso_loader.cc:64] Could not load dynamic library 'libnvinfer.so.7'; dlerror: libnvinfer.so.7: cannot open shared object file: No such file or directory; LD_LIBRARY_PATH: :/home/theodor/anaconda3/envs/tf/lib/\n",
      "2023-03-24 14:34:10.463754: W tensorflow/compiler/xla/stream_executor/platform/default/dso_loader.cc:64] Could not load dynamic library 'libnvinfer_plugin.so.7'; dlerror: libnvinfer_plugin.so.7: cannot open shared object file: No such file or directory; LD_LIBRARY_PATH: :/home/theodor/anaconda3/envs/tf/lib/\n",
      "2023-03-24 14:34:10.463761: W tensorflow/compiler/tf2tensorrt/utils/py_utils.cc:38] TF-TRT Warning: Cannot dlopen some TensorRT libraries. If you would like to use Nvidia GPU with TensorRT, please make sure the missing libraries mentioned above are installed properly.\n",
      "2023-03-24 14:34:10.980291: I tensorflow/core/platform/cpu_feature_guard.cc:193] This TensorFlow binary is optimized with oneAPI Deep Neural Network Library (oneDNN) to use the following CPU instructions in performance-critical operations:  AVX2 FMA\n",
      "To enable them in other operations, rebuild TensorFlow with the appropriate compiler flags.\n",
      "2023-03-24 14:34:11.003793: I tensorflow/compiler/xla/stream_executor/cuda/cuda_gpu_executor.cc:981] successful NUMA node read from SysFS had negative value (-1), but there must be at least one NUMA node, so returning NUMA node zero\n",
      "2023-03-24 14:34:11.007292: I tensorflow/compiler/xla/stream_executor/cuda/cuda_gpu_executor.cc:981] successful NUMA node read from SysFS had negative value (-1), but there must be at least one NUMA node, so returning NUMA node zero\n",
      "2023-03-24 14:34:11.007544: I tensorflow/compiler/xla/stream_executor/cuda/cuda_gpu_executor.cc:981] successful NUMA node read from SysFS had negative value (-1), but there must be at least one NUMA node, so returning NUMA node zero\n",
      "2023-03-24 14:34:11.355323: I tensorflow/compiler/xla/stream_executor/cuda/cuda_gpu_executor.cc:981] successful NUMA node read from SysFS had negative value (-1), but there must be at least one NUMA node, so returning NUMA node zero\n",
      "2023-03-24 14:34:11.355616: I tensorflow/compiler/xla/stream_executor/cuda/cuda_gpu_executor.cc:981] successful NUMA node read from SysFS had negative value (-1), but there must be at least one NUMA node, so returning NUMA node zero\n",
      "2023-03-24 14:34:11.355840: I tensorflow/compiler/xla/stream_executor/cuda/cuda_gpu_executor.cc:981] successful NUMA node read from SysFS had negative value (-1), but there must be at least one NUMA node, so returning NUMA node zero\n",
      "2023-03-24 14:34:11.356042: I tensorflow/core/common_runtime/gpu/gpu_device.cc:1613] Created device /job:localhost/replica:0/task:0/device:GPU:0 with 4904 MB memory:  -> device: 0, name: NVIDIA GeForce RTX 3060 Ti, pci bus id: 0000:01:00.0, compute capability: 8.6\n"
     ]
    },
    {
     "name": "stdout",
     "output_type": "stream",
     "text": [
      "Requirement already satisfied: tqdm in /home/theodor/anaconda3/envs/tf/lib/python3.9/site-packages (4.65.0)\n"
     ]
    }
   ],
   "source": [
    "import tensorflow as tf\n",
    "from archs.segmentation.unet import build_unet\n",
    "from data.data_generator import DataGenerator\n",
    "from data.pre_processor import PreProcessor\n",
    "from utils.loss import FocalDiceLoss, dice_coef\n",
    "from data.augmentor import Augmentor\n",
    "from model_utils import custom_loss\n",
    "import tensorflow as tf\n",
    "import tensorflow.keras as keras\n",
    "import matplotlib.pyplot as plt\n",
    "import numpy as np\n",
    "\n",
    "import os\n",
    "np.random.seed(2023)  # Set seed for reproducibility\n",
    "tf.random.set_seed(2026) # Note: Different to test different initializations.\n",
    "!pip install tqdm # Adding tqdm to use progress bars. Unbarable waiting for each epoch to finish without feedback.\n",
    "from tqdm import tqdm"
   ]
  },
  {
   "cell_type": "code",
   "execution_count": 2,
   "id": "5a9bae62",
   "metadata": {},
   "outputs": [],
   "source": [
    "\n",
    "gen_dir = './data_zip/' # Change if you have copied the data locally on your machine \n",
    "array_labels = ['t1', 't1ce', 't2', 'flair','mask']  # Available arrays are: 't1', 't1ce', 't2', 'flair', 'mask'.\n",
    "per_batch = len(array_labels)-1 # We don't want to use the mask as an input.\n",
    "batch_size = 16\n",
    "\n",
    "batch_size = batch_size//per_batch \n",
    "W,H,C = 256,256,1\n",
    "input_shape = (W,H,C)\n",
    "num_classes = 1\n",
    "\n",
    "gen_train = DataGenerator(data_path=gen_dir + 'training',\n",
    "                          arrays=array_labels,\n",
    "                          batch_size=batch_size)\n",
    "\n",
    "gen_val = DataGenerator(data_path=gen_dir + 'validating',\n",
    "                        arrays=array_labels,\n",
    "                        batch_size=batch_size)\n",
    "\n",
    "gen_test = DataGenerator(data_path=gen_dir + 'testing',\n",
    "                         arrays=array_labels,\n",
    "                         batch_size=batch_size)\n",
    "augmentor = Augmentor(translate=0, # No translation. Due to lack of speed.\n",
    "                      shear=0, # No shear. Due to lack of speed.\n",
    "                      rotate=0, # No rotation. Due to lack of speed.\n",
    "                      mask=0.8, # Probability of masking the image.\n",
    "                      mask_size=0.2, # Maximum size of the mask as a fraction of the image size.\n",
    "                      max_n_masks=8, # Maximum number of masks to apply.\n",
    "                      noise=0.4, # Probability of adding Gaussian noise to the image.\n",
    "                      noise_mean=0.05, # Mean of the noise.\n",
    "                      noise_std=0.1, # Standard deviation of the noise.\n",
    "                      ) # Augmentation of the data.\n",
    "pre_processor = PreProcessor(W,H,C,batch_size,per_batch,augmentor)"
   ]
  },
  {
   "cell_type": "code",
   "execution_count": 3,
   "id": "c4dd1e14",
   "metadata": {},
   "outputs": [
    {
     "name": "stdout",
     "output_type": "stream",
     "text": [
      "Model: \"visual_attention\"\n",
      "_________________________________________________________________\n",
      " Layer (type)                Output Shape              Param #   \n",
      "=================================================================\n",
      " patch_embedding (PatchEmbed  multiple                 590592    \n",
      " ding)                                                           \n",
      "                                                                 \n",
      " multi_head_attention (Multi  multiple                 12595968  \n",
      " HeadAttention)                                                  \n",
      "                                                                 \n",
      " dense (Dense)               multiple                  393728    \n",
      "                                                                 \n",
      " layer_normalization (LayerN  multiple                 1024      \n",
      " ormalization)                                                   \n",
      "                                                                 \n",
      "=================================================================\n",
      "Total params: 13,581,312\n",
      "Trainable params: 13,581,312\n",
      "Non-trainable params: 0\n",
      "_________________________________________________________________\n",
      "None\n"
     ]
    },
    {
     "name": "stderr",
     "output_type": "stream",
     "text": [
      "2023-03-24 14:34:56.156151: I tensorflow/compiler/xla/stream_executor/cuda/cuda_gpu_executor.cc:981] successful NUMA node read from SysFS had negative value (-1), but there must be at least one NUMA node, so returning NUMA node zero\n",
      "2023-03-24 14:34:56.156448: I tensorflow/compiler/xla/stream_executor/cuda/cuda_gpu_executor.cc:981] successful NUMA node read from SysFS had negative value (-1), but there must be at least one NUMA node, so returning NUMA node zero\n",
      "2023-03-24 14:34:56.156673: I tensorflow/compiler/xla/stream_executor/cuda/cuda_gpu_executor.cc:981] successful NUMA node read from SysFS had negative value (-1), but there must be at least one NUMA node, so returning NUMA node zero\n",
      "2023-03-24 14:34:56.157062: I tensorflow/compiler/xla/stream_executor/cuda/cuda_gpu_executor.cc:981] successful NUMA node read from SysFS had negative value (-1), but there must be at least one NUMA node, so returning NUMA node zero\n",
      "2023-03-24 14:34:56.157292: I tensorflow/compiler/xla/stream_executor/cuda/cuda_gpu_executor.cc:981] successful NUMA node read from SysFS had negative value (-1), but there must be at least one NUMA node, so returning NUMA node zero\n",
      "2023-03-24 14:34:56.157511: I tensorflow/compiler/xla/stream_executor/cuda/cuda_gpu_executor.cc:981] successful NUMA node read from SysFS had negative value (-1), but there must be at least one NUMA node, so returning NUMA node zero\n",
      "2023-03-24 14:34:56.157771: I tensorflow/compiler/xla/stream_executor/cuda/cuda_gpu_executor.cc:981] successful NUMA node read from SysFS had negative value (-1), but there must be at least one NUMA node, so returning NUMA node zero\n",
      "2023-03-24 14:34:56.157994: I tensorflow/compiler/xla/stream_executor/cuda/cuda_gpu_executor.cc:981] successful NUMA node read from SysFS had negative value (-1), but there must be at least one NUMA node, so returning NUMA node zero\n",
      "2023-03-24 14:34:56.158202: I tensorflow/core/common_runtime/gpu/gpu_device.cc:1613] Created device /job:localhost/replica:0/task:0/device:GPU:0 with 4904 MB memory:  -> device: 0, name: NVIDIA GeForce RTX 3060 Ti, pci bus id: 0000:01:00.0, compute capability: 8.6\n"
     ]
    }
   ],
   "source": [
    "from archs.segmentation.attention_encoders import VisualAttention\n",
    "atten_model = VisualAttention(d_model=756, num_heads=6,"
   ]
  },
  {
   "cell_type": "code",
   "execution_count": null,
   "id": "be751478",
   "metadata": {},
   "outputs": [],
   "source": [
    "filters = [8,16,32,64,128,256,512,1024]\n",
    "kernel_size = [3,3,3,3,3,3,3,1]\n",
    "strides = 1\n",
    "padding = \"same\"\n",
    "activation = \"selu\"\n",
    "# drop_rate_encoder = [0.01,0.02,0.02,0.1]\n",
    "# drop_rate_decoder = [0.01,0.1,0.1,0]\n",
    "drop_rate_encoder = [0.0,0.02,0.02,0.05]\n",
    "drop_rate_decoder = [0.0]\n",
    "depth_encoder = [2,2,3,4,4,5,6,8]\n",
    "depth_decoder = [1,1,1,1,1,1,1,1]\n",
    "output_depth = 10\n",
    "output_activation = \"sigmoid\"\n",
    "\n",
    "model = build_unet(\n",
    "    input_shape=input_shape,\n",
    "    num_classes=num_classes,\n",
    "    filters=filters,\n",
    "    kernel_size=kernel_size,\n",
    "    strides=strides,\n",
    "    padding=padding,\n",
    "    activation=activation,\n",
    "    depth_encoder=depth_encoder,\n",
    "    decoder_type=\"add\",\n",
    "    upsample_type=\"bilinear\",\n",
    "    depth_decoder=depth_decoder,\n",
    "    drop_rate_encoder=drop_rate_encoder,\n",
    "    drop_rate_decoder=drop_rate_decoder,\n",
    "    output_depth=output_depth,\n",
    "    output_activation=output_activation,\n",
    ")\n",
    "model.summary()"
   ]
  }
 ],
 "metadata": {
  "kernelspec": {
   "display_name": "tf",
   "language": "python",
   "name": "python3"
  },
  "language_info": {
   "codemirror_mode": {
    "name": "ipython",
    "version": 3
   },
   "file_extension": ".py",
   "mimetype": "text/x-python",
   "name": "python",
   "nbconvert_exporter": "python",
   "pygments_lexer": "ipython3",
   "version": "3.9.16"
  },
  "vscode": {
   "interpreter": {
    "hash": "b943d0b5534f5ef85c0420b5997dcb3cb706b77c7855306dea748f7a63e44caf"
   }
  }
 },
 "nbformat": 4,
 "nbformat_minor": 5
}

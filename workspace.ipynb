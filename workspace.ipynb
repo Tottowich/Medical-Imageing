{
 "cells": [
  {
   "cell_type": "code",
   "execution_count": 4,
   "metadata": {},
   "outputs": [
    {
     "name": "stderr",
     "output_type": "stream",
     "text": [
      "2023-05-22 09:45:41.526983: I tensorflow/core/platform/cpu_feature_guard.cc:193] This TensorFlow binary is optimized with oneAPI Deep Neural Network Library (oneDNN) to use the following CPU instructions in performance-critical operations:  AVX2 FMA\n",
      "To enable them in other operations, rebuild TensorFlow with the appropriate compiler flags.\n",
      "2023-05-22 09:45:42.187102: W tensorflow/compiler/xla/stream_executor/platform/default/dso_loader.cc:64] Could not load dynamic library 'libnvinfer.so.7'; dlerror: libnvinfer.so.7: cannot open shared object file: No such file or directory; LD_LIBRARY_PATH: :/home/theodor/anaconda3/envs/tf2/lib/:/home/theodor/anaconda3/envs/tf2/lib/python3.9/site-packages/nvidia/cudnn/lib\n",
      "2023-05-22 09:45:42.187151: W tensorflow/compiler/xla/stream_executor/platform/default/dso_loader.cc:64] Could not load dynamic library 'libnvinfer_plugin.so.7'; dlerror: libnvinfer_plugin.so.7: cannot open shared object file: No such file or directory; LD_LIBRARY_PATH: :/home/theodor/anaconda3/envs/tf2/lib/:/home/theodor/anaconda3/envs/tf2/lib/python3.9/site-packages/nvidia/cudnn/lib\n",
      "2023-05-22 09:45:42.187156: W tensorflow/compiler/tf2tensorrt/utils/py_utils.cc:38] TF-TRT Warning: Cannot dlopen some TensorRT libraries. If you would like to use Nvidia GPU with TensorRT, please make sure the missing libraries mentioned above are installed properly.\n"
     ]
    }
   ],
   "source": [
    "import tensorflow as tf\n",
    "import keras\n",
    "from keras.layers import Dense, Conv2D, Input\n",
    "from keras.models import Sequential"
   ]
  },
  {
   "cell_type": "code",
   "execution_count": 16,
   "metadata": {},
   "outputs": [
    {
     "name": "stdout",
     "output_type": "stream",
     "text": [
      "Model: \"sequential_3\"\n",
      "_________________________________________________________________\n",
      " Layer (type)                Output Shape              Param #   \n",
      "=================================================================\n",
      " conv2d_9 (Conv2D)           (None, 100, 150, 100)     2800      \n",
      "                                                                 \n",
      " conv2d_10 (Conv2D)          (None, 50, 75, 200)       180200    \n",
      "                                                                 \n",
      " conv2d_11 (Conv2D)          (None, 25, 38, 400)       720400    \n",
      "                                                                 \n",
      "=================================================================\n",
      "Total params: 903,400\n",
      "Trainable params: 903,400\n",
      "Non-trainable params: 0\n",
      "_________________________________________________________________\n"
     ]
    }
   ],
   "source": [
    "x = Input(shape=(200,300))\n",
    "model = Sequential()\n",
    "model.add(Conv2D(100,3,2,\"same\"))\n",
    "model.add(Conv2D(200,3,2,\"same\"))\n",
    "model.add(Conv2D(400,3,2,\"same\"))\n",
    "model.build(input_shape=(None,200,300,3))\n",
    "model.summary()"
   ]
  },
  {
   "cell_type": "code",
   "execution_count": 22,
   "metadata": {},
   "outputs": [
    {
     "name": "stdout",
     "output_type": "stream",
     "text": [
      "Memory: 14.165 MB\n"
     ]
    }
   ],
   "source": [
    "def f32toMB(i):\n",
    "    return 4*i/(1024**2)\n",
    "kernel = 3*3\n",
    "mem = f32toMB(200*300*3)+f32toMB(kernel*3*100+100+kernel*100*200+200+kernel*200*400+400)+f32toMB(100*150*100+50*75*200+25*38*400)\n",
    "print(f\"Memory: {mem:,.3f} MB\")"
   ]
  },
  {
   "cell_type": "code",
   "execution_count": 15,
   "metadata": {},
   "outputs": [
    {
     "data": {
      "text/plain": [
       "670000"
      ]
     },
     "execution_count": 15,
     "metadata": {},
     "output_type": "execute_result"
    }
   ],
   "source": []
  },
  {
   "cell_type": "code",
   "execution_count": 32,
   "metadata": {},
   "outputs": [],
   "source": [
    "import numpy as np\n",
    "images = np.random.random((8,200,300,3))"
   ]
  },
  {
   "cell_type": "code",
   "execution_count": 7,
   "metadata": {},
   "outputs": [
    {
     "name": "stdout",
     "output_type": "stream",
     "text": [
      "Layer dim: 101\n",
      "Layer dim: 34\n",
      "Layer dim: 12\n"
     ]
    }
   ],
   "source": [
    "layer = {\n",
    "    \"id\":300,\n",
    "    \"kernel\":4,\n",
    "    \"stride\":3,\n",
    "    \"padding\":\"same\",\n",
    "}\n",
    "def dim(layer:dict):\n",
    "    kernel = layer[\"kernel\"]\n",
    "    padding = layer[\"padding\"]\n",
    "    if padding==\"same\":\n",
    "        padding = kernel//2\n",
    "    else:\n",
    "        padding = 0 if isinstance(padding,str) else padding\n",
    "    out_size = (layer[\"id\"]+2*padding-kernel)//layer[\"stride\"] + 1\n",
    "    return out_size\n",
    "\n",
    "\n",
    "for i in range(3):\n",
    "    d = dim(layer)\n",
    "    print(f\"Layer dim: {d}\")\n",
    "    layer[\"id\"] = d"
   ]
  }
 ],
 "metadata": {
  "kernelspec": {
   "display_name": "tf2",
   "language": "python",
   "name": "python3"
  },
  "language_info": {
   "codemirror_mode": {
    "name": "ipython",
    "version": 3
   },
   "file_extension": ".py",
   "mimetype": "text/x-python",
   "name": "python",
   "nbconvert_exporter": "python",
   "pygments_lexer": "ipython3",
   "version": "3.9.16"
  },
  "orig_nbformat": 4
 },
 "nbformat": 4,
 "nbformat_minor": 2
}
